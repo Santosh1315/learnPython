{
 "cells": [
  {
   "cell_type": "markdown",
   "metadata": {},
   "source": [
    "# Learn Python 5 : Conditions\n",
    "\n",
    "This section explains how to use conditions in Python.\n",
    "\n",
    "This is a Jupyter notebook. It is useful because you can both compose and run code in the same place. This is a \"markdown block\" it is use to provide none code information. The next block is a \"code\" block, it contains runnable python code.\n",
    "\n",
    "This tuorial is adapted from http://www.learnpython.org. The tutorial was provide by DataCamp. Get started learning Python with DataCamp's free Intro to Python tutorial.\n",
    "Instructions:\n",
    "\n",
    "In each cell below, Read the comment then Execute the code using shift+enter. Understand what each line the python code is doing before moving on."
   ]
  },
  {
   "cell_type": "code",
   "execution_count": null,
   "metadata": {
    "collapsed": false
   },
   "outputs": [],
   "source": [
    "# Python uses boolean variables to evaluate conditions.\n",
    "# The boolean values True and False are returned when an expression is compared or evaluated. \n",
    "# Notice that variable assignment is done using a single equals operator \"=\", \n",
    "# whereas comparison between two variables is done using the double equals operator \"==\". \n",
    "# The \"not equals\" operator is marked as \"!=\".\n",
    "# For example:\n",
    "\n",
    "x = 2\n",
    "print(x == 2) # prints out True\n",
    "print(x == 3) # prints out False\n",
    "print(x < 3) # prints out True"
   ]
  },
  {
   "cell_type": "markdown",
   "metadata": {},
   "source": [
    "## Boolean operators\n",
    "\n"
   ]
  },
  {
   "cell_type": "code",
   "execution_count": null,
   "metadata": {
    "collapsed": false
   },
   "outputs": [],
   "source": [
    "# The \"and\" and \"or\" boolean operators allow building complex boolean expressions, \n",
    "# For example:\n",
    "name = \"John\"\n",
    "age = 23\n",
    "if name == \"John\" and age == 23:\n",
    "    print(\"Your name is John, and you are also 23 years old.\")\n",
    "\n",
    "if name == \"John\" or name == \"Rick\":\n",
    "    print(\"Your name is either John or Rick.\")"
   ]
  },
  {
   "cell_type": "markdown",
   "metadata": {},
   "source": [
    "### The \"in\" operator"
   ]
  },
  {
   "cell_type": "code",
   "execution_count": null,
   "metadata": {
    "collapsed": true
   },
   "outputs": [],
   "source": [
    "# The \"in\" operator could be used to check if a specified object exists within an \n",
    "# iterable object container, such as a list:\n",
    "\n",
    "name = \"John\"\n",
    "if name in [\"John\", \"Rick\"]:\n",
    "    print(\"Your name is either John or Rick.\")"
   ]
  },
  {
   "cell_type": "code",
   "execution_count": null,
   "metadata": {
    "collapsed": false
   },
   "outputs": [],
   "source": [
    "# Python uses indentation to define code blocks, instead of brackets.\n",
    "# The standard Python indentation is 4 spaces, although tabs and any other space size will work,\n",
    "# as long as it is consistent. Notice that code blocks do not need any termination.\n",
    "\n",
    "# Here is an example for using Python's \"if\" statement using code blocks:\n",
    "\n",
    "# This code will give an error when run. It is presented so that you can see what an \n",
    "# if, else if, else staement looks like.\n",
    "if <statement is=\"\" true=\"\">:\n",
    "    <do something=\"\">\n",
    "    ....\n",
    "    ....\n",
    "elif <another statement=\"\" is=\"\" true=\"\">: # else if\n",
    "    <do something=\"\" else=\"\">\n",
    "    ....\n",
    "    ....\n",
    "else:\n",
    "    <do another=\"\" thing=\"\">\n",
    "    ....\n",
    "    ...."
   ]
  },
  {
   "cell_type": "code",
   "execution_count": null,
   "metadata": {
    "collapsed": false
   },
   "outputs": [],
   "source": [
    "#  statement is evaulated as true if one of the following is correct: 1. \n",
    "# The \"True\" boolean variable is given, or calculated using an expression, \n",
    "# such as an arithmetic comparison. 2. An object which is not conside red \"empty\" is passed.\n",
    "\n",
    "# Here are some examples for objects which are considered as empty: 1. \n",
    "# An empty string: \"\" 2. An empty list: [] 3. The number zero: 0 4. \n",
    "# The false boolean variable: False\n",
    "\n",
    "# An example of an if statement: \n",
    "x = 2\n",
    "if x == 2:\n",
    "    print(\"x equals two!\")\n",
    "else:\n",
    "    print(\"x does not equal to two.\")"
   ]
  },
  {
   "cell_type": "markdown",
   "metadata": {},
   "source": [
    "### The 'is' operator"
   ]
  },
  {
   "cell_type": "code",
   "execution_count": null,
   "metadata": {
    "collapsed": false
   },
   "outputs": [],
   "source": [
    "# Unlike the double equals operator \"==\", the \"is\" operator does not match the values of the \n",
    "# variables, but the instances themselves. \n",
    "# For example:\n",
    "\n",
    "x = [1,2,3]\n",
    "y = [1,2,3]\n",
    "print(x == y) # Prints out True\n",
    "print(x is y) # Prints out False"
   ]
  },
  {
   "cell_type": "markdown",
   "metadata": {},
   "source": [
    "### The \"not\" operator"
   ]
  },
  {
   "cell_type": "code",
   "execution_count": null,
   "metadata": {
    "collapsed": false
   },
   "outputs": [],
   "source": [
    "# Using \"not\" before a boolean expression inverts it:\n",
    "print(not False) # Prints out True\n",
    "print((not False) == (False)) # Prints out False"
   ]
  },
  {
   "cell_type": "markdown",
   "metadata": {},
   "source": [
    "## Exercise 5\n",
    "Change the variables in the first section, so that each if statement resolves as True."
   ]
  },
  {
   "cell_type": "code",
   "execution_count": null,
   "metadata": {
    "collapsed": true
   },
   "outputs": [],
   "source": [
    "# change this code\n",
    "number = 10\n",
    "second_number = 10\n",
    "first_array = []\n",
    "second_array = [1,2,3]\n",
    "\n",
    "if number > 15:\n",
    "    print(\"1\")\n",
    "\n",
    "if first_array:\n",
    "    print(\"2\")\n",
    "\n",
    "if len(second_array) == 2:\n",
    "    print(\"3\")\n",
    "\n",
    "if len(first_array) + len(second_array) == 5:\n",
    "    print(\"4\")\n",
    "\n",
    "if first_array and first_array[0] == 1:\n",
    "    print(\"5\")\n",
    "\n",
    "if not second_number:\n",
    "    print(\"6\")"
   ]
  }
 ],
 "metadata": {
  "kernelspec": {
   "display_name": "Python [conda root]",
   "language": "python",
   "name": "conda-root-py"
  },
  "language_info": {
   "codemirror_mode": {
    "name": "ipython",
    "version": 3
   },
   "file_extension": ".py",
   "mimetype": "text/x-python",
   "name": "python",
   "nbconvert_exporter": "python",
   "pygments_lexer": "ipython3",
   "version": "3.5.2"
  }
 },
 "nbformat": 4,
 "nbformat_minor": 1
}
