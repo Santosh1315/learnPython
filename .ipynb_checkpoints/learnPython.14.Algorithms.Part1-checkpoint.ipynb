{
 "cells": [
  {
   "cell_type": "markdown",
   "metadata": {},
   "source": [
    "# Learn Python 14: Algorithms Hour 1\n",
    "Introduction:\n",
    "Pseudocode is useful to programmers in many roles. This question answered on stack overflow.com illuminates its usefulness.\n",
    "\n",
    "**Question:**\n",
    "*How often do you use pseudocode in the real world?*\n",
    "\n",
    "**Answer:**\n",
    "*I use it all the time. Any time I have to explain a design decision, I'll use it. Talking to non-technical staff, I'll use it. It has application not only for programming, but for explaining how anything is done.*\n",
    "\n",
    "*Working with a team on multiple platforms (Java front-end with a COBOL backend, in this case) it's much easier to explain how a bit of code works using pseudocode than it is to show real code.*\n",
    "\n",
    "*During design stage, pseudocode is especially useful because it helps you see the solution and whether or not it's feasible. I've seen some designs that looked very elegant, only to try to implement them and realize I couldn't even generate pseudocode. Turned out, the designer had never tried thinking about a theoretical implementation. Had he tried to write up some pseudocode representing his solution, I never would have had to waste 2 weeks trying to figure out why I couldn't get it to work.*"
   ]
  },
  {
   "cell_type": "raw",
   "metadata": {},
   "source": [
    "## Instructions:\n",
    "\n",
    "* Read this Presentation on Pseudocode (https://goo.gl/info/WwiJZZ)\n",
    "* Review this refresher Video Lecture on writing PseudoCode for Algorithms (https://goo.gl/info/28M56g)\n",
    "* Read each of the scenarios below. \n",
    "* Discuss an algorithm with your partner.\n",
    "* Review your flowcharts for each scenario.\n",
    "* Open a new .c file on your VM\n"
   ]
  },
  {
   "cell_type": "code",
   "execution_count": null,
   "metadata": {
    "collapsed": true
   },
   "outputs": [],
   "source": []
  }
 ],
 "metadata": {
  "kernelspec": {
   "display_name": "Python [conda root]",
   "language": "python",
   "name": "conda-root-py"
  },
  "language_info": {
   "codemirror_mode": {
    "name": "ipython",
    "version": 3
   },
   "file_extension": ".py",
   "mimetype": "text/x-python",
   "name": "python",
   "nbconvert_exporter": "python",
   "pygments_lexer": "ipython3",
   "version": "3.5.2"
  }
 },
 "nbformat": 4,
 "nbformat_minor": 1
}
