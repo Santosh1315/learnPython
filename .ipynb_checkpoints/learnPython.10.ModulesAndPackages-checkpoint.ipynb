{
 "cells": [
  {
   "cell_type": "markdown",
   "metadata": {},
   "source": [
    "# Learn Python 10 : Modules and Packages\n",
    "\n",
    "This section explains how to use Modules in Python. Modules in Python are simply Python files with the .py extension, which implement a set of functions.\n",
    "\n",
    "This is a Jupyter notebook. It is useful because you can both compose and run code in the same place. This is a \"markdown block\" it is use to provide none code information. The next block is a \"code\" block, it contains runnable python code.\n",
    "\n",
    "This tuorial is adapted from http://www.learnpython.org. The tutorial was provide by DataCamp. Get started learning Python with DataCamp's free Intro to Python tutorial. Instructions:\n",
    "\n",
    "In each cell below, Read the comment then Execute the code using shift+enter. Understand what each line the python code is doing before moving on."
   ]
  },
  {
   "cell_type": "markdown",
   "metadata": {},
   "source": [
    "## What is a module?\n",
    "Modules in Python are simply Python files with the .py extension, which implement a set of functions. Modules are imported from other modules using the **import** command.\n",
    "\n",
    "To import a module, we use the **import** command. Check out the full list of built-in modules in the Python standard library here.\n",
    "\n",
    "The first time a module is loaded into a running Python script, it is initialized by executing the code in the module once. If another module in your code imports the same module again, it will not be loaded twice but once only - so local variables inside the module act as a \"singleton\" - they are initialized only once.\n",
    "\n",
    "If we want to import the module **urllib.request**, which enables us to create read data from URLs, we simply **import** the module:"
   ]
  },
  {
   "cell_type": "code",
   "execution_count": null,
   "metadata": {
    "collapsed": false
   },
   "outputs": [],
   "source": [
    "# import the library\n",
    "import urllib.request\n",
    "\n",
    "# use it\n",
    "# This code will produce an error. Add a url in quotes as the paramenter for urllib.request.urlopen() to fix the error.\n",
    "urllib.request.urlopen(...)"
   ]
  },
  {
   "cell_type": "markdown",
   "metadata": {},
   "source": [
    "## Exploring built-in modules\n",
    "Two very important functions come in handy when exploring modules in Python - the **dir** and **help** functions.\n",
    "\n",
    "We can look for which functions are implemented in each module by using the **dir** function:"
   ]
  },
  {
   "cell_type": "code",
   "execution_count": null,
   "metadata": {
    "collapsed": false
   },
   "outputs": [],
   "source": [
    "import urllib.request\n",
    "dir(urllib.request)"
   ]
  },
  {
   "cell_type": "code",
   "execution_count": null,
   "metadata": {
    "collapsed": false
   },
   "outputs": [],
   "source": [
    "# When we find the function in the module we want to use, we can read about it more using the help function, \n",
    "# inside the Python interpreter:\n",
    "help(urllib.request.urlopen)"
   ]
  },
  {
   "cell_type": "markdown",
   "metadata": {},
   "source": [
    "## Writing packages\n",
    "\n",
    "Packages are namespaces which contain multiple packages and modules themselves. They are simply directories, but with a twist.\n",
    "\n",
    "Each package in Python is a directory which MUST contain a special file called **`__init__.py`**. This file can be empty, and it indicates that the directory it contains is a Python package, so it can be imported the same way a module can be imported.\n",
    "\n",
    "If we create a directory called **foo**, which marks the package name, we can then create a module inside that package called **bar**. We also must not forget to add the **`__init__.py`** file inside the foo directory.\n",
    "\n",
    "To use the module bar, we can import it in two ways:\n",
    "\n",
    "**import foo.bar**\n",
    "\n",
    "or:\n",
    "\n",
    "** from foo import bar **\n",
    "\n",
    "\n",
    "In the first method, we must use the **foo** prefix whenever we access the module **bar**. In the second method, we don't, because we import the module to our module's namespace.\n",
    "\n",
    "The **`__init__.py`**  file can also decide which modules the package exports as the API, while keeping other modules internal, by overriding the **`__all__`**  variable, like so:\n",
    "\n",
    "    __init__.py:\n",
    "\n",
    "       __all__ = [\"bar\"]\n"
   ]
  },
  {
   "cell_type": "markdown",
   "metadata": {},
   "source": [
    "## Exercise\n",
    "\n",
    "In this exercise, you will need to print an alphabetically sorted list of all functions in the re module, which contain the word find.\n",
    "You may need to review loops, lists, and if statements to complet this task."
   ]
  },
  {
   "cell_type": "code",
   "execution_count": null,
   "metadata": {
    "collapsed": true
   },
   "outputs": [],
   "source": [
    "import re\n",
    "\n",
    "# Your code goes here"
   ]
  }
 ],
 "metadata": {
  "kernelspec": {
   "display_name": "Python [conda root]",
   "language": "python",
   "name": "conda-root-py"
  },
  "language_info": {
   "codemirror_mode": {
    "name": "ipython",
    "version": 3
   },
   "file_extension": ".py",
   "mimetype": "text/x-python",
   "name": "python",
   "nbconvert_exporter": "python",
   "pygments_lexer": "ipython3",
   "version": "3.5.2"
  }
 },
 "nbformat": 4,
 "nbformat_minor": 1
}
