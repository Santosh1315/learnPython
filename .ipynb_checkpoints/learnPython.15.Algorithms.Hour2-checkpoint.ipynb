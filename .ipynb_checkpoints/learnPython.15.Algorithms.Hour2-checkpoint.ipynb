{
 "cells": [
  {
   "cell_type": "markdown",
   "metadata": {},
   "source": [
    "## Learn Python 15: Algorithms Hour 2\n",
    "Introduction:\n",
    "Pseudocode is useful to programmers in many roles. This question answered on stack overflow.com illuminates its usefulness.\n",
    "\n",
    "**Question:**\n",
    "*How often do you use pseudocode in the real world?*\n",
    "\n",
    "**Answer:**\n",
    "*I use it all the time. Any time I have to explain a design decision, I'll use it. Talking to non-technical staff, I'll use it. It has application not only for programming, but for explaining how anything is done.*\n",
    "\n",
    "*Working with a team on multiple platforms (Java front-end with a COBOL backend, in this case) it's much easier to explain how a bit of code works using pseudocode than it is to show real code.*\n",
    "\n",
    "*During design stage, pseudocode is especially useful because it helps you see the solution and whether or not it's feasible. I've seen some designs that looked very elegant, only to try to implement them and realize I couldn't even generate pseudocode. Turned out, the designer had never tried thinking about a theoretical implementation. Had he tried to write up some pseudocode representing his solution, I never would have had to waste 2 weeks trying to figure out why I couldn't get it to work.*"
   ]
  },
  {
   "cell_type": "markdown",
   "metadata": {},
   "source": [
    "## Instructions:\n",
    "You will be useing this notebook for 2 assignments. During the first assignment, you will write pseudocode based upon each scenario. During the second assignment, you will translate your pseudo code into working Python code. \n",
    "\n",
    "** Assignment 1: Pseudocode **\n",
    "* Read this Presentation on Pseudocode (https://goo.gl/info/WwiJZZ)\n",
    "* Review this refresher Video Lecture on writing PseudoCode for Algorithms (https://goo.gl/info/28M56g)\n",
    "* Read each of the scenarios below. \n",
    "* Discuss an algorithm with your partner.\n",
    "* Review your flowcharts for each scenario.\n",
    "* Write pseudo code as a multiline comment in the \"code block\" below each scenerio\n",
    "\n",
    "** Assignment 2: Python Code **\n",
    "* With your partner, discuss the pseudocode you have written.\n",
    "* Work together to translate the pseudocode into working python code."
   ]
  },
  {
   "cell_type": "markdown",
   "metadata": {},
   "source": [
    "## Scenario 1:\n",
    "\n",
    "Given a 9 digit number, find out if the number contains any duplicate digits. Your algorithm should print true if any digit appears at least twice in the array, and it should print false if every digit is unique."
   ]
  },
  {
   "cell_type": "code",
   "execution_count": null,
   "metadata": {
    "collapsed": false
   },
   "outputs": [],
   "source": [
    "####################### Write your pseudocode below this line.\n",
    "# Replace this line with your pseudocode.\n",
    "# Add more lines as necessary.\n",
    "####################### Write your python code below this line."
   ]
  },
  {
   "cell_type": "markdown",
   "metadata": {},
   "source": [
    "## Scenario 2:\n",
    "\n",
    "Given two strings s and t, write a function to determine if t is an anagram of s.\n",
    "\n",
    "For example,\n",
    "\n",
    "s = \"anagram\", t = \"nagaram\", return true\n",
    "\n",
    "s = \"rat\", t = \"car\", return false"
   ]
  },
  {
   "cell_type": "code",
   "execution_count": null,
   "metadata": {
    "collapsed": false
   },
   "outputs": [],
   "source": [
    "####################### Write your pseudocode below this line.\n",
    "# Replace this line with your pseudocode.\n",
    "# Add more lines as necessary.\n",
    "####################### Write your python code below this line."
   ]
  },
  {
   "cell_type": "markdown",
   "metadata": {},
   "source": [
    "## Scenario 3:\n",
    "\n",
    "Given a roman numeral, convert it to an integer.\n",
    "\n",
    "Input is guaranteed to be within the range from 1 to 99."
   ]
  },
  {
   "cell_type": "code",
   "execution_count": null,
   "metadata": {
    "collapsed": false
   },
   "outputs": [],
   "source": [
    "####################### Write your pseudocode below this line.\n",
    "# Replace this line with your pseudocode.\n",
    "# Add more lines as necessary.\n",
    "####################### Write your python code below this line."
   ]
  },
  {
   "cell_type": "markdown",
   "metadata": {},
   "source": [
    "## Scenario 4\n",
    "\n",
    "Given an integer, create a program which will print “Odd” if the number is odd and “even” if the number is even."
   ]
  },
  {
   "cell_type": "code",
   "execution_count": null,
   "metadata": {
    "collapsed": false
   },
   "outputs": [],
   "source": [
    "####################### Write your pseudocode below this line.\n",
    "# Replace this line with your pseudocode.\n",
    "# Add more lines as necessary.\n",
    "####################### Write your python code below this line."
   ]
  },
  {
   "cell_type": "markdown",
   "metadata": {},
   "source": [
    "## Scenario 5\n",
    "\n",
    "\n",
    "You are given 2 lists of grocery items.  Merge the 2 lists together, so that the resulting list is in alphabetical order, by “ printing” items from the list one by one.\n",
    "\n",
    "List 1: [eggs, milk, rice, ]\n",
    "\n",
    "List 2: [beans, spinach, noodles]"
   ]
  },
  {
   "cell_type": "code",
   "execution_count": null,
   "metadata": {
    "collapsed": false
   },
   "outputs": [],
   "source": [
    "####################### Write your pseudocode below this line.\n",
    "# Replace this line with your pseudocode.\n",
    "# Add more lines as necessary.\n",
    "####################### Write your python code below this line."
   ]
  }
 ],
 "metadata": {
  "anaconda-cloud": {},
  "kernelspec": {
   "display_name": "Python [conda root]",
   "language": "python",
   "name": "conda-root-py"
  },
  "language_info": {
   "codemirror_mode": {
    "name": "ipython",
    "version": 3
   },
   "file_extension": ".py",
   "mimetype": "text/x-python",
   "name": "python",
   "nbconvert_exporter": "python",
   "pygments_lexer": "ipython3",
   "version": "3.5.2"
  }
 },
 "nbformat": 4,
 "nbformat_minor": 1
}
