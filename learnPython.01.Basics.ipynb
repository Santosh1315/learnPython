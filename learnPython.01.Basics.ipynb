{
 "cells": [
  {
   "cell_type": "markdown",
   "metadata": {},
   "source": [
    "# Learn Python 1 : Basics\n",
    "\n",
    "This is a Jupyter notebook. It is useful because you can both compose and run code in the same place.\n",
    "This is a \"markdown block\" it is use to provide none code information.\n",
    "The next block is a \"code\" block, it contains runnable python code.\n",
    "\n",
    "Python is a very simple language, and has a very straightforward syntax. It encourages programmers to program without boilerplate (prepared) code. The simplest directive in Python is the \"print\" directive - it simply prints out a line (and also includes a newline, unlike in C).\n",
    "\n",
    "This tuorial is adapted from http://www.learnpython.org. The tutorial was provide by DataCamp. Get started learning Python with DataCamp's free Intro to Python tutorial. "
   ]
  },
  {
   "cell_type": "code",
   "execution_count": null,
   "metadata": {
    "collapsed": false
   },
   "outputs": [],
   "source": [
    "#This is a comment line, it starts with a \"#\" character. \n",
    "#This line is here to provide you with information, but deos not effect the program itself.\n",
    "# If we want to write regular text in a \"code block\" we must add it as a comment.\n",
    "\n",
    "#To run  the code in this cell, type shift+enter.\n",
    "\n",
    "\n",
    "#Instructions:\n",
    "# 1. The next line will print something.\n",
    "# 2. Change next line so it will print \"Hello World!\"\n",
    "# 3. Run this cell by presing shift+enter, ensure that it has correct output.\n",
    "\n",
    "print(\"This line will be printed.\")"
   ]
  },
  {
   "cell_type": "markdown",
   "metadata": {},
   "source": [
    "## Indentation\n",
    "\n",
    "Python uses indentation for blocks, instead of curly braces. Both tabs and spaces are supported, but the standard indentation requires standard Python code to use four spaces. For example:"
   ]
  },
  {
   "cell_type": "code",
   "execution_count": null,
   "metadata": {
    "collapsed": false
   },
   "outputs": [],
   "source": [
    "#This code is properly indented. \n",
    "#The code below the line starting with \"if\" is the code block belonging to the if statement.\n",
    "\n",
    "\n",
    "#Instructions:\n",
    "# 1. The code below will print something.\n",
    "# 2. Run this cell by pressing shift+enter, ensure that it has correct output.\n",
    "\n",
    "x = 1\n",
    "if x == 1:\n",
    "    # indented four spaces or 1 tab\n",
    "    print(\"x is 1.\")"
   ]
  },
  {
   "cell_type": "code",
   "execution_count": null,
   "metadata": {
    "collapsed": false
   },
   "outputs": [],
   "source": [
    "#Instructions:\n",
    "# 1. The code below should print something.\n",
    "# 2. The code below is not correct, so it will not run.\n",
    "# 3. Try running the incorrect code by pressing shift+enter .\n",
    "# 4. Consider the error produced\n",
    "# 5. Fix the indentation, then run the code again by pressing shift+enter\n",
    "\n",
    "x = 1\n",
    "if x == 1:\n",
    "print(\"x is 1.\")\n",
    "x = 2\n",
    "if x == 2:\n",
    "print(\"x is 2.\")\n",
    "x = 3\n",
    "if x == 1:\n",
    "print(\"x is 3.\")"
   ]
  },
  {
   "cell_type": "markdown",
   "metadata": {},
   "source": [
    "# Variables and Types\n",
    "\n",
    "Python is completely object oriented, and not \"statically typed\". You do not need to declare variables before using them, or declare their type. Every variable in Python is an object.\n",
    "\n",
    "This tutorial will go over a few basic types of variables.\n",
    "\n",
    "## Numbers\n",
    "\n",
    "Python supports two types of numbers - integers and floating point numbers. (It also supports complex numbers, which will not be explained in this tutorial).\n",
    "\n",
    "## Instructions:\n",
    "In each cell below, Read the comment then Execute the code using shift+enter.\n",
    "Understand what each line the python code is doing before moving on."
   ]
  },
  {
   "cell_type": "code",
   "execution_count": null,
   "metadata": {
    "collapsed": false
   },
   "outputs": [],
   "source": [
    "# To define an integer, use the following syntax:\n",
    "\n",
    "myint = 7\n",
    "print(myint)"
   ]
  },
  {
   "cell_type": "code",
   "execution_count": null,
   "metadata": {
    "collapsed": false
   },
   "outputs": [],
   "source": [
    "#To define a floating point number, you may use one of the following notations:\n",
    "myfloat = 7.0\n",
    "print(myfloat)\n",
    "myfloat = float(7)\n",
    "print(myfloat)"
   ]
  },
  {
   "cell_type": "code",
   "execution_count": null,
   "metadata": {
    "collapsed": false
   },
   "outputs": [],
   "source": [
    "# Strings are defined either with a single quote or a double quotes.\n",
    "mystring = 'hello'\n",
    "print(mystring)\n",
    "mystring = \"hello\"\n",
    "print(mystring)"
   ]
  },
  {
   "cell_type": "code",
   "execution_count": null,
   "metadata": {
    "collapsed": false
   },
   "outputs": [],
   "source": [
    "#The difference between the two is that using double quotes makes it easy to \n",
    "#include apostrophes (whereas these would terminate the string if using single quotes)\n",
    "mystring = \"Don't worry about apostrophes\"\n",
    "print(mystring)"
   ]
  },
  {
   "cell_type": "code",
   "execution_count": null,
   "metadata": {
    "collapsed": false
   },
   "outputs": [],
   "source": [
    "# There are additional variations on defining strings that make it easier to include things such as \n",
    "#carriage returns, backslashes and Unicode characters. \n",
    "#These are beyond the scope of this tutorial, but are covered in the Python documentation.\n",
    "#Simple operators can be executed on numbers and strings:\n",
    "\n",
    "one = 1\n",
    "two = 2\n",
    "three = one + two\n",
    "print(three)\n",
    "\n",
    "hello = \"hello\"\n",
    "world = \"world\"\n",
    "helloworld = hello + \" \" + world\n",
    "print(helloworld)"
   ]
  },
  {
   "cell_type": "code",
   "execution_count": null,
   "metadata": {
    "collapsed": false
   },
   "outputs": [],
   "source": [
    "#Assignments can be done on more than one variable \"simultaneously\" on the same line like this\n",
    "\n",
    "a, b = 3, 4\n",
    "print(a,b)"
   ]
  },
  {
   "cell_type": "code",
   "execution_count": null,
   "metadata": {
    "collapsed": false
   },
   "outputs": [],
   "source": [
    "# Mixing operators between numbers and strings is not supported:\n",
    "\n",
    "# This will not work!\n",
    "one = 1\n",
    "two = 2\n",
    "hello = \"hello\"\n",
    "\n",
    "print(one + two + hello)"
   ]
  },
  {
   "cell_type": "markdown",
   "metadata": {},
   "source": [
    "# Exercise 1\n",
    "\n",
    "## Instructions\n",
    "The target of this exercise is to create a string, an integer, and a floating point number. \n",
    "Edit the code below so that each of the folloing conditions are met.\n",
    "2. The string should be named mystring and should contain the word \"hello\". \n",
    "3. The floating point number should be named myfloat and should contain the number 10.0\n",
    "4. The integer should be named myint and should contain the number 20.\n",
    "\n"
   ]
  },
  {
   "cell_type": "code",
   "execution_count": null,
   "metadata": {
    "collapsed": false
   },
   "outputs": [],
   "source": [
    "mystring = None\n",
    "myfloat = None\n",
    "myint = None\n",
    "\n",
    "# testing code\n",
    "if mystring == \"hello\":\n",
    "    print(\"String: %s\" % mystring)\n",
    "if isinstance(myfloat, float) and myfloat == 10.0:\n",
    "    print(\"Float: %f\" % myfloat)\n",
    "if isinstance(myint, int) and myint == 20:\n",
    "    print(\"Integer: %d\" % myint)"
   ]
  },
  {
   "cell_type": "code",
   "execution_count": null,
   "metadata": {
    "collapsed": true
   },
   "outputs": [],
   "source": []
  }
 ],
 "metadata": {
  "anaconda-cloud": {},
  "kernelspec": {
   "display_name": "Python [conda root]",
   "language": "python",
   "name": "conda-root-py"
  },
  "language_info": {
   "codemirror_mode": {
    "name": "ipython",
    "version": 3
   },
   "file_extension": ".py",
   "mimetype": "text/x-python",
   "name": "python",
   "nbconvert_exporter": "python",
   "pygments_lexer": "ipython3",
   "version": "3.5.2"
  }
 },
 "nbformat": 4,
 "nbformat_minor": 1
}
