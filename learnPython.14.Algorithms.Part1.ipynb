{
 "cells": [
  {
   "cell_type": "markdown",
   "metadata": {},
   "source": [
    "# Learn Python 14: Algorithms Part 1\n",
    "Introduction:\n",
    "Pseudocode is useful to programmers in many roles. This question answered on stack overflow.com illuminates its usefulness.\n",
    "\n",
    "**Question:**\n",
    "*How often do you use pseudocode in the real world?*\n",
    "\n",
    "**Answer:**\n",
    "*I use it all the time. Any time I have to explain a design decision, I'll use it. Talking to non-technical staff, I'll use it. It has application not only for programming, but for explaining how anything is done.*\n",
    "\n",
    "*Working with a team on multiple platforms (Java front-end with a COBOL backend, in this case) it's much easier to explain how a bit of code works using pseudocode than it is to show real code.*\n",
    "\n",
    "*During design stage, pseudocode is especially useful because it helps you see the solution and whether or not it's feasible. I've seen some designs that looked very elegant, only to try to implement them and realize I couldn't even generate pseudocode. Turned out, the designer had never tried thinking about a theoretical implementation. Had he tried to write up some pseudocode representing his solution, I never would have had to waste 2 weeks trying to figure out why I couldn't get it to work.*"
   ]
  },
  {
   "cell_type": "markdown",
   "metadata": {},
   "source": [
    "## Instructions:\n",
    "You will be useing this notebook for 2 assignments. During the first assignment, you will write pseudocode based upon each scenario. During the second assignment, you will translate your pseudo code into working Python code. \n",
    "\n",
    "** Pseudocode **\n",
    "* Read this Presentation on Pseudocode (https://goo.gl/info/WwiJZZ)\n",
    "* Review this refresher Video Lecture on writing PseudoCode for Algorithms (https://goo.gl/info/28M56g)\n",
    "* Read each of the scenarios below. \n",
    "* Discuss an algorithm with your partner.\n",
    "* Review your flowcharts for each scenario.\n",
    "* Write pseudo code as a multiline comment in the \"code block\" below each scenerio\n",
    "\n",
    "** Python Code **\n",
    "* With your partner, discuss the pseudocode you have written.\n",
    "* Work together to translate the pseudocode into working python code."
   ]
  },
  {
   "cell_type": "markdown",
   "metadata": {},
   "source": [
    "## Scenario 1:\n",
    "\n",
    "You love Vegan BLT sandwiches. Unfortunately, your new personal chef is from a small island in the south pacific and has never heard of a sandwich. Create a code to show the personal chef how to make your sandwich."
   ]
  },
  {
   "cell_type": "code",
   "execution_count": 1,
   "metadata": {
    "collapsed": false
   },
   "outputs": [],
   "source": [
    "####################### Write your pseudocode below this line.\n",
    "# Replace this line with your pseudocode.\n",
    "# Add more lines as necessary.\n",
    "####################### Write your python code below this line."
   ]
  },
  {
   "cell_type": "markdown",
   "metadata": {},
   "source": [
    "## Scenario 2:\n",
    "\n",
    "Your grandmother is lonely. She lives alone in a dog friendly retirement community. Your 10 year old cousin is choosing a dog for her.  Create code to help your cousin make a great decision. "
   ]
  },
  {
   "cell_type": "code",
   "execution_count": 2,
   "metadata": {
    "collapsed": false
   },
   "outputs": [],
   "source": [
    "####################### Write your pseudocode below this line.\n",
    "# Replace this line with your pseudocode.\n",
    "# Add more lines as necessary.\n",
    "####################### Write your python code below this line."
   ]
  },
  {
   "cell_type": "markdown",
   "metadata": {},
   "source": [
    "## Scenario 3:\n",
    "\n",
    "You are fundraising for the “Clean Water for Kids Charity”. Your club members need to put letters into envelopes , apply proper postage and mail them. Create code simulate the entire procedure from stack of letters and envelopes to dropping them in the mail box"
   ]
  },
  {
   "cell_type": "code",
   "execution_count": 3,
   "metadata": {
    "collapsed": false
   },
   "outputs": [],
   "source": [
    "####################### Write your pseudocode below this line.\n",
    "# Replace this line with your pseudocode.\n",
    "# Add more lines as necessary.\n",
    "####################### Write your python code below this line."
   ]
  },
  {
   "cell_type": "markdown",
   "metadata": {},
   "source": [
    "## Scenario 4\n",
    "\n",
    "Your friend has difficulty choosing whether to go on a first date when someone asks. Create code to help your friend make the decision.\n"
   ]
  },
  {
   "cell_type": "code",
   "execution_count": 4,
   "metadata": {
    "collapsed": false
   },
   "outputs": [],
   "source": [
    "####################### Write your pseudocode below this line.\n",
    "# Replace this line with your pseudocode.\n",
    "# Add more lines as necessary.\n",
    "####################### Write your python code below this line."
   ]
  },
  {
   "cell_type": "markdown",
   "metadata": {},
   "source": [
    "## Scenario 5\n",
    "\n",
    "\n",
    "You have your first internship in the Computer Science department. Your mentor has asked you to put together a booklet for the department. Your supervisor gave you 10 stack of paper, one for each page of the booklet and two stacks with the front and back cover. You also have a stapler. When you are finished you will need to put the booklets in the the department mailboxes. Your supervisor has asked you to create a flowchart describing how you plan to complete this first task."
   ]
  },
  {
   "cell_type": "code",
   "execution_count": 5,
   "metadata": {
    "collapsed": false
   },
   "outputs": [],
   "source": [
    "####################### Write your pseudocode below this line.\n",
    "# Replace this line with your pseudocode.\n",
    "# Add more lines as necessary.\n",
    "####################### Write your python code below this line."
   ]
  }
 ],
 "metadata": {
  "kernelspec": {
   "display_name": "Python [conda root]",
   "language": "python",
   "name": "conda-root-py"
  },
  "language_info": {
   "codemirror_mode": {
    "name": "ipython",
    "version": 3
   },
   "file_extension": ".py",
   "mimetype": "text/x-python",
   "name": "python",
   "nbconvert_exporter": "python",
   "pygments_lexer": "ipython3",
   "version": "3.5.2"
  }
 },
 "nbformat": 4,
 "nbformat_minor": 1
}
